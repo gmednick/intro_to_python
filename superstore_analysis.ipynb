{
 "cells": [
  {
   "cell_type": "code",
   "execution_count": 1,
   "id": "972b70fa",
   "metadata": {},
   "outputs": [
    {
     "name": "stdout",
     "output_type": "stream",
     "text": [
      "/Users/gmednick/Desktop/superstore\n"
     ]
    }
   ],
   "source": [
    "!pwd"
   ]
  },
  {
   "cell_type": "code",
   "execution_count": 12,
   "id": "a8fbdc2b-086a-45e4-a57c-a3a5d4a23086",
   "metadata": {},
   "outputs": [
    {
     "name": "stdout",
     "output_type": "stream",
     "text": [
      "Reinitialized existing Git repository in /Users/gmednick/Desktop/superstore/.git/\n",
      "[master (root-commit) c8a9122] first commit\n",
      " 3 files changed, 211 insertions(+)\n",
      " create mode 100644 .ipynb_checkpoints/superstore_analysis-checkpoint.ipynb\n",
      " create mode 100644 python_script.py\n",
      " create mode 100644 superstore_analysis.ipynb\n"
     ]
    }
   ],
   "source": [
    "#Create a git repository\n",
    "!git init\n",
    "!git add -A\n",
    "!git commit -m \"first commit\""
   ]
  },
  {
   "cell_type": "code",
   "execution_count": 13,
   "id": "495e521c-ed99-4127-8c9b-10fd9756af27",
   "metadata": {},
   "outputs": [
    {
     "name": "stdout",
     "output_type": "stream",
     "text": [
      "On branch master\n",
      "nothing to commit, working tree clean\n"
     ]
    }
   ],
   "source": [
    "!git status"
   ]
  },
  {
   "cell_type": "code",
   "execution_count": 4,
   "id": "fb3c81ad-6e70-4ad4-b3de-67dee4173787",
   "metadata": {},
   "outputs": [
    {
     "name": "stdout",
     "output_type": "stream",
     "text": [
      "\u001b[34m.\u001b[m\u001b[m                         \u001b[34m.git\u001b[m\u001b[m                      python_script.py\n",
      "\u001b[34m..\u001b[m\u001b[m                        \u001b[34m.ipynb_checkpoints\u001b[m\u001b[m        superstore_analysis.ipynb\n"
     ]
    }
   ],
   "source": [
    "!ls -a"
   ]
  },
  {
   "cell_type": "code",
   "execution_count": 33,
   "id": "2e8c212c-8c45-47c3-9ec3-d42968bdb30a",
   "metadata": {
    "tags": []
   },
   "outputs": [
    {
     "name": "stdout",
     "output_type": "stream",
     "text": [
      "ggit@github.com: Permission denied (publickey).\n",
      "fatal: Could not read from remote repository.\n",
      "\n",
      "Please make sure you have the correct access rights\n",
      "and the repository exists.\n"
     ]
    }
   ],
   "source": [
    "!git push --set-upstream origin master"
   ]
  },
  {
   "cell_type": "code",
   "execution_count": 35,
   "id": "4a09fbd3-2c74-4214-8d70-89ff40f225c3",
   "metadata": {},
   "outputs": [
    {
     "name": "stdout",
     "output_type": "stream",
     "text": [
      "fatal: invalid upstream 'origin'\n"
     ]
    }
   ],
   "source": [
    "!git rebase origin master "
   ]
  },
  {
   "cell_type": "code",
   "execution_count": 28,
   "id": "e038ef43-3f9b-47e2-8de0-e840b6b46f5e",
   "metadata": {},
   "outputs": [
    {
     "name": "stdout",
     "output_type": "stream",
     "text": [
      "On branch master\n",
      "Changes to be committed:\n",
      "  (use \"git restore --staged <file>...\" to unstage)\n",
      "\t\u001b[32mmodified:   superstore_analysis.ipynb\u001b[m\n",
      "\n",
      "[master c483c45] second commit\n",
      " 1 file changed, 77 insertions(+), 14 deletions(-)\n",
      "fatal: The current branch master has no upstream branch.\n",
      "To push the current branch and set the remote as upstream, use\n",
      "\n",
      "    git push --set-upstream origin master\n",
      "\n"
     ]
    }
   ],
   "source": [
    "!git add -A\n",
    "!git status\n",
    "!git commit -m \"second commit\"\n",
    "!git push"
   ]
  },
  {
   "cell_type": "code",
   "execution_count": 34,
   "id": "c689bb6b-f5b5-49a5-81c3-b7a91fd9093e",
   "metadata": {},
   "outputs": [
    {
     "name": "stdout",
     "output_type": "stream",
     "text": [
      "fatal: remote origin already exists.\n"
     ]
    }
   ],
   "source": [
    "!git remote add origin git@github.com:gmednick/intro_to_python.git"
   ]
  },
  {
   "cell_type": "code",
   "execution_count": 20,
   "id": "fffd2144-ad39-4b93-beb1-cb767a0c4b57",
   "metadata": {},
   "outputs": [
    {
     "name": "stdout",
     "output_type": "stream",
     "text": [
      "ggit@github.com: Permission denied (publickey).\n",
      "fatal: Could not read from remote repository.\n",
      "\n",
      "Please make sure you have the correct access rights\n",
      "and the repository exists.\n"
     ]
    }
   ],
   "source": [
    "!git push -u origin master"
   ]
  },
  {
   "cell_type": "code",
   "execution_count": 17,
   "id": "27d5c0e6-d229-4544-9316-2bc4cddfc625",
   "metadata": {},
   "outputs": [
    {
     "name": "stdout",
     "output_type": "stream",
     "text": [
      "ggit@github.com: Permission denied (publickey).\n",
      "fatal: Could not read from remote repository.\n",
      "\n",
      "Please make sure you have the correct access rights\n",
      "and the repository exists.\n"
     ]
    }
   ],
   "source": [
    "!git push --set-upstream origin master"
   ]
  },
  {
   "cell_type": "code",
   "execution_count": 11,
   "id": "3e51a5c7-e8d8-423c-a8d9-9fe72259cbe1",
   "metadata": {},
   "outputs": [
    {
     "name": "stdout",
     "output_type": "stream",
     "text": [
      "On branch master\n",
      "\n",
      "No commits yet\n",
      "\n",
      "Untracked files:\n",
      "  (use \"git add <file>...\" to include in what will be committed)\n",
      "\t\u001b[31m.ipynb_checkpoints/\u001b[m\n",
      "\t\u001b[31mpython_script.py\u001b[m\n",
      "\t\u001b[31msuperstore_analysis.ipynb\u001b[m\n",
      "\n",
      "nothing added to commit but untracked files present (use \"git add\" to track)\n"
     ]
    }
   ],
   "source": [
    "!git status"
   ]
  },
  {
   "cell_type": "code",
   "execution_count": 7,
   "id": "69135669-ae7c-4ce3-82be-e4a290bc6012",
   "metadata": {},
   "outputs": [
    {
     "name": "stdout",
     "output_type": "stream",
     "text": [
      "On branch master\n",
      "\n",
      "No commits yet\n",
      "\n",
      "Untracked files:\n",
      "  (use \"git add <file>...\" to include in what will be committed)\n",
      "\t\u001b[31m.ipynb_checkpoints/\u001b[m\n",
      "\t\u001b[31mpython_script.py\u001b[m\n",
      "\t\u001b[31msuperstore_analysis.ipynb\u001b[m\n",
      "\n",
      "nothing added to commit but untracked files present (use \"git add\" to track)\n"
     ]
    }
   ],
   "source": []
  }
 ],
 "metadata": {
  "kernelspec": {
   "display_name": "Python 3",
   "language": "python",
   "name": "python3"
  },
  "language_info": {
   "codemirror_mode": {
    "name": "ipython",
    "version": 3
   },
   "file_extension": ".py",
   "mimetype": "text/x-python",
   "name": "python",
   "nbconvert_exporter": "python",
   "pygments_lexer": "ipython3",
   "version": "3.8.10"
  }
 },
 "nbformat": 4,
 "nbformat_minor": 5
}
